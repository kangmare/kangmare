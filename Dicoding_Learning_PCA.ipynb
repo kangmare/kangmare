{
  "nbformat": 4,
  "nbformat_minor": 0,
  "metadata": {
    "colab": {
      "name": "Implement_PCA.ipynb",
      "provenance": [],
      "collapsed_sections": [],
      "authorship_tag": "ABX9TyMsItYEChM/SPZtOnfNPBe6",
      "include_colab_link": true
    },
    "kernelspec": {
      "name": "python3",
      "display_name": "Python 3"
    }
  },
  "cells": [
    {
      "cell_type": "markdown",
      "metadata": {
        "id": "view-in-github",
        "colab_type": "text"
      },
      "source": [
        "<a href=\"https://colab.research.google.com/github/mrezap/learning_course/blob/main/Dicoding_Learning_PCA.ipynb\" target=\"_parent\"><img src=\"https://colab.research.google.com/assets/colab-badge.svg\" alt=\"Open In Colab\"/></a>"
      ]
    },
    {
      "cell_type": "code",
      "metadata": {
        "id": "D_02yX0zIeSr",
        "colab": {
          "base_uri": "https://localhost:8080/"
        },
        "outputId": "c9f6612f-4a4a-462b-86fa-599287eb3abf"
      },
      "source": [
        "from sklearn import datasets\n",
        "from sklearn.model_selection import train_test_split\n",
        "from sklearn import tree\n",
        "from sklearn.decomposition import PCA\n",
        "\n",
        "### Model without PCA ###\n",
        "\n",
        "iris = datasets.load_iris()\n",
        "atribut = iris.data\n",
        "label = iris.target\n",
        "\n",
        "# split dataset\n",
        "X_train, X_test, y_train, y_test = train_test_split(\n",
        "    atribut, label, test_size=0.2)\n",
        "\n",
        "# model decision tree\n",
        "#decision_tree = tree.DecisionTreeClassifier()\n",
        "#first_model = decision_tree.fit(X_train, y_train)\n",
        "#first_model.score(X_test,y_test)\n",
        "\n",
        "### Model with PCA ###\n",
        "\n",
        "# membuat objek PCA sejumlah 4 komponen\n",
        "#pca = PCA(n_components = 4)\n",
        "\n",
        "# aplikasi PCA pada dataset\n",
        "#pca_attributes = pca.fit_transform(X_train)\n",
        "\n",
        "# melihat variance dari tiap atribut\n",
        "#pca.explained_variance_ratio_\n",
        "\n",
        "# PCA dgn 2 principal komponen\n",
        "pca = PCA(n_components = 2)\n",
        "X_train_pca = pca.fit_transform(X_train)\n",
        "X_test_pca = pca.fit_transform(X_test)\n",
        "\n",
        "# uji akurasi\n",
        "second_model = decision_tree.fit(X_train_pca, y_train)\n",
        "second_model.score(X_test_pca, y_test)"
      ],
      "execution_count": null,
      "outputs": [
        {
          "output_type": "execute_result",
          "data": {
            "text/plain": [
              "0.8333333333333334"
            ]
          },
          "metadata": {
            "tags": []
          },
          "execution_count": 9
        }
      ]
    }
  ]
}
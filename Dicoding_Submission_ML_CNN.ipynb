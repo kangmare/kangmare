{
  "nbformat": 4,
  "nbformat_minor": 0,
  "metadata": {
    "colab": {
      "name": "CNN_ML_Dicoding_Submission.ipynb",
      "provenance": [],
      "collapsed_sections": [
        "dXHSI1UHn-wb",
        "LDdG3eC0oNu1",
        "qf_ZznbrqL7R",
        "9KlDtFBws60X",
        "ahxJLuP2liHH",
        "VTkfLCA0O_SB"
      ],
      "toc_visible": true,
      "mount_file_id": "1Lz9Sx6wFQJqbCpYp2BeJUdyjKH8I3ew_",
      "authorship_tag": "ABX9TyNYdrusvppmGtAUcdrQ3GdY",
      "include_colab_link": true
    },
    "kernelspec": {
      "name": "python3",
      "display_name": "Python 3"
    }
  },
  "cells": [
    {
      "cell_type": "markdown",
      "metadata": {
        "id": "view-in-github",
        "colab_type": "text"
      },
      "source": [
        "<a href=\"https://colab.research.google.com/github/mrezap/learning_course/blob/main/Dicoding_Submission_ML_CNN.ipynb\" target=\"_parent\"><img src=\"https://colab.research.google.com/assets/colab-badge.svg\" alt=\"Open In Colab\"/></a>"
      ]
    },
    {
      "cell_type": "markdown",
      "metadata": {
        "id": "OtTQjCZZeScb"
      },
      "source": [
        "Profil Diri\n",
        "\n",
        "*   Nama     : Maulana Reza Pahlevi\n",
        "*   Kelas    : Belajar Machine Learning Untuk Pemula\n",
        "*   Topik    : Submisi Tugas Akhir ML\n",
        "*   Platform : Dicoding\n"
      ]
    },
    {
      "cell_type": "markdown",
      "metadata": {
        "id": "dXHSI1UHn-wb"
      },
      "source": [
        "# Import & Download Dataset"
      ]
    },
    {
      "cell_type": "code",
      "metadata": {
        "id": "lkvTTviUeFxk"
      },
      "source": [
        "!wget --no-check-certificate \\\n",
        "https://dicodingacademy.blob.core.windows.net/picodiploma/ml_pemula_academy/rockpaperscissors.zip -O /tmp/rockpaperscissors.zip"
      ],
      "execution_count": null,
      "outputs": []
    },
    {
      "cell_type": "markdown",
      "metadata": {
        "id": "LDdG3eC0oNu1"
      },
      "source": [
        "# ZIP Extraction"
      ]
    },
    {
      "cell_type": "code",
      "metadata": {
        "id": "EogSETyDfon9"
      },
      "source": [
        "import zipfile, os\n",
        "\n",
        "\n",
        "unzip = '/tmp/rockpaperscissors.zip'\n",
        "zip_ref = zipfile.ZipFile(unzip, 'r')\n",
        "zip_ref.extractall('/tmp/rps_data/')\n",
        "zip_ref.close()"
      ],
      "execution_count": null,
      "outputs": []
    },
    {
      "cell_type": "code",
      "metadata": {
        "id": "NfOy-94kCD5f"
      },
      "source": [
        "# setup directory\n",
        "base_dir = '/tmp/rps_data/rockpaperscissors/'\n",
        "train_dir = os.path.join(base_dir, 'rps-cv-images') # train directory"
      ],
      "execution_count": null,
      "outputs": []
    },
    {
      "cell_type": "markdown",
      "metadata": {
        "id": "qf_ZznbrqL7R"
      },
      "source": [
        "# Creating Object for ImageDataGenerator"
      ]
    },
    {
      "cell_type": "code",
      "metadata": {
        "id": "CisYWKgFqLRd",
        "colab": {
          "base_uri": "https://localhost:8080/"
        },
        "outputId": "def6f07b-479c-4048-864c-5253dfd2f78f"
      },
      "source": [
        "from tensorflow.keras.preprocessing.image import ImageDataGenerator\n",
        "\n",
        "train_datagen = ImageDataGenerator (rescale = 1./255,\n",
        "    shear_range = 0.2,\n",
        "    rotation_range = 40,\n",
        "    zoom_range = 0.2,\n",
        "    horizontal_flip = True,\n",
        "    fill_mode = 'nearest',\n",
        "    validation_split = 0.4 # validation measure 40%\n",
        ")\n",
        "\n",
        "test_datagen = ImageDataGenerator (rescale = 1./255,\n",
        "    shear_range = 0.2,\n",
        "    rotation_range = 40,\n",
        "    zoom_range = 0.2,\n",
        "    horizontal_flip = True,\n",
        "    fill_mode = 'nearest',\n",
        "    validation_split = 0.4 # validation measure 40%\n",
        ")\n",
        "\n",
        "train_generator = train_datagen.flow_from_directory(\n",
        "    train_dir,\n",
        "    target_size=(150, 150),\n",
        "    batch_size=16,\n",
        "    shuffle=True,\n",
        "    interpolation =\"nearest\",\n",
        "    subset='training',\n",
        "    class_mode='categorical' # multi-class classification\n",
        ")\n",
        "\n",
        "validation_generator = test_datagen.flow_from_directory(\n",
        "    train_dir,\n",
        "    target_size=(150, 150),\n",
        "    batch_size=16,\n",
        "    shuffle=True,\n",
        "    interpolation =\"nearest\",\n",
        "    subset='validation',\n",
        "    class_mode='categorical' # multi-class classification\n",
        ")"
      ],
      "execution_count": null,
      "outputs": [
        {
          "output_type": "stream",
          "text": [
            "Found 1314 images belonging to 3 classes.\n",
            "Found 874 images belonging to 3 classes.\n"
          ],
          "name": "stdout"
        }
      ]
    },
    {
      "cell_type": "markdown",
      "metadata": {
        "id": "9KlDtFBws60X"
      },
      "source": [
        "# Model Impelementation w/ CNN"
      ]
    },
    {
      "cell_type": "code",
      "metadata": {
        "id": "NN-0sNcGs-nk",
        "colab": {
          "base_uri": "https://localhost:8080/"
        },
        "outputId": "13d03793-5a4b-4c14-e8d7-fb682af0333b"
      },
      "source": [
        "import tensorflow as tf\n",
        "from tensorflow import keras\n",
        "from tensorflow.keras import layers\n",
        "\n",
        "# create model\n",
        "model = keras.Sequential([\n",
        "    # 01 CNN Process\n",
        "    layers.Conv2D(32, (3,3), activation='relu', input_shape=(150, 150, 3)),\n",
        "    layers.MaxPooling2D(2, 2),\n",
        "    # 02 CNN Process\n",
        "    layers.Conv2D(32, (3,3), activation='relu'),\n",
        "    layers.MaxPooling2D(2, 2),\n",
        "    # 03 CNN Process\n",
        "    layers.Conv2D(64, (3,3), activation='relu'),\n",
        "    layers.MaxPooling2D(2, 2),\n",
        "    # 04 CNN Process\n",
        "    layers.Conv2D(64, (3,3), activation='relu'),\n",
        "    layers.MaxPooling2D(2, 2),\n",
        "    # Flattening Process\n",
        "    layers.Dropout(0.5),\n",
        "    layers.Flatten(),\n",
        "    # hidden layer\n",
        "    layers.Dense(256, activation='relu'),\n",
        "    layers.Dense(512, activation='relu'),\n",
        "    layers.Dense(3, activation='softmax')\n",
        "])\n",
        "\n",
        "# compile model\n",
        "model.compile(optimizer='rmsprop',\n",
        "              loss='categorical_crossentropy',\n",
        "              metrics=['accuracy'])\n",
        "\n",
        "\n",
        "# fitting model\n",
        "model_history = model.fit(\n",
        "    train_generator,\n",
        "    steps_per_epoch=50, \n",
        "    epochs=25, \n",
        "    validation_data=validation_generator, \n",
        "    validation_steps=5,\n",
        "    verbose=1)"
      ],
      "execution_count": null,
      "outputs": [
        {
          "output_type": "stream",
          "text": [
            "Epoch 1/25\n",
            "50/50 [==============================] - 27s 539ms/step - loss: 1.1081 - accuracy: 0.3812 - val_loss: 3.1030 - val_accuracy: 0.3500\n",
            "Epoch 2/25\n",
            "50/50 [==============================] - 26s 530ms/step - loss: 1.0109 - accuracy: 0.5700 - val_loss: 0.8445 - val_accuracy: 0.6500\n",
            "Epoch 3/25\n",
            "50/50 [==============================] - 26s 526ms/step - loss: 0.6313 - accuracy: 0.7481 - val_loss: 0.3918 - val_accuracy: 0.8625\n",
            "Epoch 4/25\n",
            "50/50 [==============================] - 27s 531ms/step - loss: 0.4762 - accuracy: 0.8250 - val_loss: 0.4919 - val_accuracy: 0.8375\n",
            "Epoch 5/25\n",
            "50/50 [==============================] - 28s 556ms/step - loss: 0.4668 - accuracy: 0.8206 - val_loss: 0.3564 - val_accuracy: 0.9125\n",
            "Epoch 6/25\n",
            "50/50 [==============================] - 27s 536ms/step - loss: 0.3655 - accuracy: 0.8575 - val_loss: 0.3693 - val_accuracy: 0.9125\n",
            "Epoch 7/25\n",
            "50/50 [==============================] - 26s 518ms/step - loss: 0.2940 - accuracy: 0.8791 - val_loss: 0.1591 - val_accuracy: 0.9375\n",
            "Epoch 8/25\n",
            "50/50 [==============================] - 26s 525ms/step - loss: 0.2923 - accuracy: 0.9008 - val_loss: 0.1188 - val_accuracy: 0.9625\n",
            "Epoch 9/25\n",
            "50/50 [==============================] - 26s 520ms/step - loss: 0.2819 - accuracy: 0.9122 - val_loss: 0.7838 - val_accuracy: 0.8250\n",
            "Epoch 10/25\n",
            "50/50 [==============================] - 27s 531ms/step - loss: 0.2399 - accuracy: 0.9275 - val_loss: 0.1627 - val_accuracy: 0.9500\n",
            "Epoch 11/25\n",
            "50/50 [==============================] - 26s 519ms/step - loss: 0.2108 - accuracy: 0.9313 - val_loss: 0.0707 - val_accuracy: 0.9750\n",
            "Epoch 12/25\n",
            "50/50 [==============================] - 26s 522ms/step - loss: 0.2019 - accuracy: 0.9313 - val_loss: 0.3185 - val_accuracy: 0.8750\n",
            "Epoch 13/25\n",
            "50/50 [==============================] - 27s 532ms/step - loss: 0.1983 - accuracy: 0.9377 - val_loss: 0.2027 - val_accuracy: 0.9625\n",
            "Epoch 14/25\n",
            "50/50 [==============================] - 26s 527ms/step - loss: 0.2215 - accuracy: 0.9300 - val_loss: 0.3769 - val_accuracy: 0.9125\n",
            "Epoch 15/25\n",
            "50/50 [==============================] - 26s 529ms/step - loss: 0.1687 - accuracy: 0.9438 - val_loss: 0.1796 - val_accuracy: 0.9500\n",
            "Epoch 16/25\n",
            "50/50 [==============================] - 26s 520ms/step - loss: 0.2058 - accuracy: 0.9288 - val_loss: 0.2329 - val_accuracy: 0.9625\n",
            "Epoch 17/25\n",
            "50/50 [==============================] - 26s 520ms/step - loss: 0.1520 - accuracy: 0.9567 - val_loss: 0.0876 - val_accuracy: 0.9625\n",
            "Epoch 18/25\n",
            "50/50 [==============================] - 26s 520ms/step - loss: 0.1862 - accuracy: 0.9517 - val_loss: 0.0856 - val_accuracy: 0.9625\n",
            "Epoch 19/25\n",
            "50/50 [==============================] - 26s 526ms/step - loss: 0.1857 - accuracy: 0.9427 - val_loss: 0.0666 - val_accuracy: 0.9750\n",
            "Epoch 20/25\n",
            "50/50 [==============================] - 26s 525ms/step - loss: 0.1093 - accuracy: 0.9644 - val_loss: 0.1102 - val_accuracy: 0.9625\n",
            "Epoch 21/25\n",
            "50/50 [==============================] - 26s 528ms/step - loss: 0.1573 - accuracy: 0.9538 - val_loss: 0.1601 - val_accuracy: 0.9500\n",
            "Epoch 22/25\n",
            "50/50 [==============================] - 26s 527ms/step - loss: 0.1373 - accuracy: 0.9638 - val_loss: 0.3732 - val_accuracy: 0.9000\n",
            "Epoch 23/25\n",
            "50/50 [==============================] - 26s 528ms/step - loss: 0.1582 - accuracy: 0.9613 - val_loss: 0.5146 - val_accuracy: 0.8750\n",
            "Epoch 24/25\n",
            "50/50 [==============================] - 26s 520ms/step - loss: 0.1013 - accuracy: 0.9695 - val_loss: 0.0182 - val_accuracy: 0.9875\n",
            "Epoch 25/25\n",
            "50/50 [==============================] - 26s 528ms/step - loss: 0.2094 - accuracy: 0.9262 - val_loss: 0.1409 - val_accuracy: 0.9625\n"
          ],
          "name": "stdout"
        }
      ]
    },
    {
      "cell_type": "markdown",
      "metadata": {
        "id": "ahxJLuP2liHH"
      },
      "source": [
        "# Model Evaluation"
      ]
    },
    {
      "cell_type": "code",
      "metadata": {
        "id": "oHLIuKQ2lktf",
        "colab": {
          "base_uri": "https://localhost:8080/"
        },
        "outputId": "438e0e77-e364-467a-fec2-e510ea010c37"
      },
      "source": [
        "# train & val score evaluation\n",
        "train_score = model.evaluate(train_generator)\n",
        "val_score = model.evaluate(validation_generator)\n",
        "print('\\nTrain Loss Score : {:.2f} and Train Accuracy Score : {:.2f}'.format(train_score[0],train_score[1]))\n",
        "print('Validation Loss Score : {:.2f} and Validation Accuracy Score : {:.2f}'.format(val_score[0],val_score[1]))"
      ],
      "execution_count": null,
      "outputs": [
        {
          "output_type": "stream",
          "text": [
            "83/83 [==============================] - 17s 199ms/step - loss: 0.0553 - accuracy: 0.9886\n",
            "55/55 [==============================] - 11s 199ms/step - loss: 0.0850 - accuracy: 0.9748\n",
            "\n",
            "Train Loss Score : 0.06 and Train Accuracy Score : 0.99\n",
            "Validation Loss Score : 0.09 and Validation Accuracy Score : 0.97\n"
          ],
          "name": "stdout"
        }
      ]
    },
    {
      "cell_type": "markdown",
      "metadata": {
        "id": "VTkfLCA0O_SB"
      },
      "source": [
        "# Classification Summary"
      ]
    },
    {
      "cell_type": "code",
      "metadata": {
        "id": "SmDzjq_2qwfA",
        "colab": {
          "base_uri": "https://localhost:8080/"
        },
        "outputId": "64235deb-15a0-40ea-cd9a-82a95bbaaae2"
      },
      "source": [
        "import numpy as np\n",
        "from sklearn.metrics import classification_report\n",
        "\n",
        "Y_pred = model.predict(validation_generator, 12)\n",
        "y_pred = np.argmax(Y_pred, axis=1)\n",
        "\n",
        "title = 'Classification Summary'\n",
        "print(title)\n",
        "obj_name = ['Rock', 'Paper', 'Scissors']\n",
        "print(classification_report(validation_generator.classes, y_pred, target_names=obj_name))\n"
      ],
      "execution_count": null,
      "outputs": [
        {
          "output_type": "stream",
          "text": [
            "Classification Summary\n",
            "              precision    recall  f1-score   support\n",
            "\n",
            "        Rock       0.32      0.32      0.32       284\n",
            "       Paper       0.35      0.35      0.35       290\n",
            "    Scissors       0.34      0.34      0.34       300\n",
            "\n",
            "    accuracy                           0.34       874\n",
            "   macro avg       0.34      0.34      0.34       874\n",
            "weighted avg       0.34      0.34      0.34       874\n",
            "\n"
          ],
          "name": "stdout"
        }
      ]
    },
    {
      "cell_type": "markdown",
      "metadata": {
        "id": "jHi-pIolTtfU"
      },
      "source": [
        "# Prediction Test using custom file (image upload)"
      ]
    },
    {
      "cell_type": "code",
      "metadata": {
        "id": "ly7Jch0IU_5s",
        "colab": {
          "resources": {
            "http://localhost:8080/nbextensions/google.colab/files.js": {
              "data": "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",
              "ok": true,
              "headers": [
                [
                  "content-type",
                  "application/javascript"
                ]
              ],
              "status": 200,
              "status_text": ""
            }
          },
          "base_uri": "https://localhost:8080/",
          "height": 358
        },
        "outputId": "e1be86cd-166f-4f95-c39b-a5df1938bf03"
      },
      "source": [
        "import numpy as np\n",
        "from google.colab import files\n",
        "from keras.preprocessing import image\n",
        "import matplotlib.pyplot as plt\n",
        "import matplotlib.image as mpimg\n",
        "%matplotlib inline\n",
        "\n",
        "img_uploaded = files.upload()\n",
        "\n",
        "# image prediction\n",
        "\n",
        "for fn in img_uploaded.keys():\n",
        "  path = fn\n",
        "  img = image.load_img(path, target_size=(150,150))\n",
        "  imgplot = plt.imshow(img)\n",
        "  x = image.img_to_array(img)\n",
        "  x = np.expand_dims(x, axis=0)\n",
        "\n",
        "  images = np.vstack([x])\n",
        "  classes = model.predict(images, batch_size=12)\n",
        "\n",
        "  print(fn)\n",
        "  if classes[0,0] == 1.0:\n",
        "    print('Image is paper')\n",
        "  elif classes[0,1] == 1.0:\n",
        "    print('Image is rock')\n",
        "  else:\n",
        "    print('Image is scissors')"
      ],
      "execution_count": null,
      "outputs": [
        {
          "output_type": "display_data",
          "data": {
            "text/html": [
              "\n",
              "     <input type=\"file\" id=\"files-641d4de9-6d7e-4d87-b064-9221500eeaf4\" name=\"files[]\" multiple disabled\n",
              "        style=\"border:none\" />\n",
              "     <output id=\"result-641d4de9-6d7e-4d87-b064-9221500eeaf4\">\n",
              "      Upload widget is only available when the cell has been executed in the\n",
              "      current browser session. Please rerun this cell to enable.\n",
              "      </output>\n",
              "      <script src=\"/nbextensions/google.colab/files.js\"></script> "
            ],
            "text/plain": [
              "<IPython.core.display.HTML object>"
            ]
          },
          "metadata": {
            "tags": []
          }
        },
        {
          "output_type": "stream",
          "text": [
            "Saving test13.jpg to test13 (1).jpg\n",
            "test13.jpg\n",
            "Image is paper\n"
          ],
          "name": "stdout"
        },
        {
          "output_type": "display_data",
          "data": {
            "image/png": "[encoded data removed]",
            "text/plain": [
              "<Figure size 432x288 with 1 Axes>"
            ]
          },
          "metadata": {
            "tags": [],
            "needs_background": "light"
          }
        }
      ]
    }
  ]
}
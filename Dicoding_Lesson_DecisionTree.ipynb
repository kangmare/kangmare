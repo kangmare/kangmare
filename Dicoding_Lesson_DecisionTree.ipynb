{
  "nbformat": 4,
  "nbformat_minor": 0,
  "metadata": {
    "colab": {
      "name": "DecisionTree.ipynb",
      "provenance": [],
      "collapsed_sections": [],
      "mount_file_id": "16upjrjC8_IbvWu1ePUZZJ0QyrK4BMI-b",
      "authorship_tag": "ABX9TyMzIQ5M+cjCYAjJItJB8zMj",
      "include_colab_link": true
    },
    "kernelspec": {
      "name": "python3",
      "display_name": "Python 3"
    }
  },
  "cells": [
    {
      "cell_type": "markdown",
      "metadata": {
        "id": "view-in-github",
        "colab_type": "text"
      },
      "source": [
        "<a href=\"https://colab.research.google.com/github/mrezap/learning_course/blob/main/Dicoding_Learning_DecisionTree.ipynb\" target=\"_parent\"><img src=\"https://colab.research.google.com/assets/colab-badge.svg\" alt=\"Open In Colab\"/></a>"
      ]
    },
    {
      "cell_type": "code",
      "metadata": {
        "id": "y_rfR8uDX_re"
      },
      "source": [
        "import pandas as pd\n",
        "from sklearn.datasets import load_iris\n",
        "from sklearn.tree import DecisionTreeClassifier\n",
        "from sklearn.tree import export_graphviz\n",
        "\n",
        "# read file iris.csv\n",
        "iris = pd.read_csv('/content/drive/My Drive/Dataset Example/Iris.csv')\n",
        "iris.head()\n",
        "\n",
        "# menghilangkan kolom/ atribut yang tidak dipakai\n",
        "iris.drop('Id', axis=1,inplace=True)\n",
        "\n",
        "# memisahkan atribut dan label\n",
        "X = iris [['SepalLengthCm', 'SepalWidthCm', 'PetalLengthCm', 'PetalWidthCm']]\n",
        "y = iris['Species']\n",
        "\n",
        "# membuat model DecisionTree\n",
        "tree_model = DecisionTreeClassifier()\n",
        "\n",
        "# train model thdp data\n",
        "tree_model.fit(X, y)\n",
        "\n",
        "# prediksi model (SL, SW, PL, PW)\n",
        "tree_model.predict([[6.2, 3.4, 5.4, 2.3]])\n",
        "\n",
        "# membuat visualisasi\n",
        "export_graphviz(\n",
        "    tree_model,\n",
        "    out_file = \"iris_tree_graph.dot\",\n",
        "    feature_names = ['SepalLengthCm', 'SepalWidthCm', 'PetalLengthCm', 'PetalWidthCm'],\n",
        "    class_names = ['Iris-setosa', 'Iris-versicolor', 'Iris-virginica'],\n",
        "    rounded = True,\n",
        "    filled = True\n",
        ")"
      ],
      "execution_count": null,
      "outputs": []
    }
  ]
}

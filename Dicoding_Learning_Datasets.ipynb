{
  "nbformat": 4,
  "nbformat_minor": 0,
  "metadata": {
    "colab": {
      "name": "Datasets_Dicoding.ipynb",
      "provenance": [],
      "collapsed_sections": [],
      "authorship_tag": "ABX9TyMhORbq+kJld8SV6fvpkNoc",
      "include_colab_link": true
    },
    "kernelspec": {
      "name": "python3",
      "display_name": "Python 3"
    }
  },
  "cells": [
    {
      "cell_type": "markdown",
      "metadata": {
        "id": "view-in-github",
        "colab_type": "text"
      },
      "source": [
        "<a href=\"https://colab.research.google.com/github/mrezap/learning_course/blob/main/Dicoding_Learning_Datasets.ipynb\" target=\"_parent\"><img src=\"https://colab.research.google.com/assets/colab-badge.svg\" alt=\"Open In Colab\"/></a>"
      ]
    },
    {
      "cell_type": "code",
      "metadata": {
        "id": "_ESlQZbKIQR9",
        "colab": {
          "base_uri": "https://localhost:8080/"
        },
        "outputId": "10580878-9477-481b-f6a4-e8b5687edc05"
      },
      "source": [
        "import sklearn\n",
        "from sklearn import datasets\n",
        "from sklearn.model_selection import train_test_split\n",
        "\n",
        "# me-load Iris dataset\n",
        "iris = datasets.load_iris()\n",
        "\n",
        "# memisahkan atribut dan label pada dataset iris\n",
        "x = iris.data\n",
        "y = iris.target\n",
        "\n",
        "# membagi dataset menjadi data training dan data testing\n",
        "x_train, x_test, y_train, y_test = train_test_split(x, y, test_size=0.2)\n",
        "len(x_test)"
      ],
      "execution_count": null,
      "outputs": [
        {
          "output_type": "execute_result",
          "data": {
            "text/plain": [
              "30"
            ]
          },
          "metadata": {
            "tags": []
          },
          "execution_count": 1
        }
      ]
    },
    {
      "cell_type": "code",
      "metadata": {
        "id": "yaztKTVqM6c7",
        "colab": {
          "base_uri": "https://localhost:8080/"
        },
        "outputId": "b4bcad06-e6d5-4900-8764-81345fc4130b"
      },
      "source": [
        "import sklearn\n",
        "from sklearn import datasets\n",
        "from sklearn import tree\n",
        "from sklearn.model_selection import cross_val_score\n",
        "\n",
        "# me-load Iris dataset\n",
        "iris = datasets.load_iris()\n",
        "\n",
        "# memisahkan atribut dan label pada dataset iris\n",
        "x = iris.data\n",
        "y = iris.target\n",
        "\n",
        "# membuat model dengan decision tree classifier\n",
        "clf = tree.DecisionTreeClassifier()\n",
        "\n",
        "# evaluasi performa model dengan cross validation\n",
        "scores = cross_val_score(clf, x, y, cv=5)\n",
        "print(scores)"
      ],
      "execution_count": null,
      "outputs": [
        {
          "output_type": "stream",
          "text": [
            "[0.96666667 0.96666667 0.9        0.96666667 1.        ]\n"
          ],
          "name": "stdout"
        }
      ]
    }
  ]
}